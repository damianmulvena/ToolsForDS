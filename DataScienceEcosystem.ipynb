{
 "cells": [
  {
   "cell_type": "markdown",
   "id": "7f63aa96-747f-4f29-a1cd-1133b0d55602",
   "metadata": {},
   "source": [
    "# Data Science Tools and Ecosystem"
   ]
  },
  {
   "cell_type": "markdown",
   "id": "db4011aa-0233-4281-bc11-44cd33c3fe2c",
   "metadata": {},
   "source": [
    "*In this notebook, Data Science Tools and Ecosystem are explored and demonstrated*"
   ]
  },
  {
   "cell_type": "markdown",
   "id": "5a70f3c9-9efc-4dd7-84cd-24cedac7f51a",
   "metadata": {},
   "source": [
    "**Objectives:**\n",
    "* List popular languages for Data Science\n",
    "* List some common libraries which extend those languages for Data Science\n",
    "* Identify some key Data Science Tools or Environments\n",
    "* Demonstrate familiarity with both Markdown and Code cell types in Jupyter notebooks\n",
    "* Give some arithmetic examples of how Python is used in Jupyter notebooks"
   ]
  },
  {
   "cell_type": "markdown",
   "id": "6f46b209-1156-47aa-a23c-1d5b1f062ba0",
   "metadata": {},
   "source": [
    "## Author\n",
    "Damian Mulvena"
   ]
  },
  {
   "cell_type": "markdown",
   "id": "41799b94-18dd-43b4-a1da-57f3ca0cc231",
   "metadata": {},
   "source": [
    "Some key popular languages that Data Scientists use are:\n",
    "1. Python\n",
    "2. R\n",
    "3. SQL\n",
    "\n",
    "Along with other important languages such as...\n",
    "\n",
    "4. Scala\n",
    "5. Java\n",
    "6. C++\n",
    "7. Julia\n",
    "\n",
    "... and many more"
   ]
  },
  {
   "cell_type": "markdown",
   "id": "85999d04-a3c8-4ed0-b9c9-7c99b1a6cb02",
   "metadata": {},
   "source": [
    "Data Science also has a large set of commonly used **libraries**, to assist scientists in addressing the data without having to recreate the coding. Some of the most widely used are:\n",
    "1. Pandas (for Python)\n",
    "2. NumPy (Python)\n",
    "3. Matplotlib (Python)\n",
    "4. ggplot (R)"
   ]
  },
  {
   "cell_type": "markdown",
   "id": "41981e29-9acb-4d1d-bb05-449146ee61cc",
   "metadata": {},
   "source": [
    "| Data Science Tools |\n",
    "| ---- |\n",
    "| Jupyter Notebooks |\n",
    "| RStudio |\n",
    "| Git/GitHub |\n"
   ]
  },
  {
   "cell_type": "markdown",
   "id": "bf89f0e5-c29f-4660-be4f-d786911b4b47",
   "metadata": {},
   "source": [
    "### Below are a few examples of evaluating arithmetic expressions in Python"
   ]
  },
  {
   "cell_type": "code",
   "execution_count": 3,
   "id": "be80f106-cbd5-4185-85d8-d991d8d5bda7",
   "metadata": {},
   "outputs": [
    {
     "name": "stdout",
     "output_type": "stream",
     "text": [
      "17\n"
     ]
    }
   ],
   "source": [
    "# This is a simple arithmetic expression to multiply then add integers.\n",
    "#   NB. The parentheses are redundant, but can sometimes assist those reading a complex expression!\n",
    "print((3*4)+5)"
   ]
  },
  {
   "cell_type": "code",
   "execution_count": 4,
   "id": "11cfa026-d756-440c-bd18-41fd91c0c70b",
   "metadata": {},
   "outputs": [
    {
     "data": {
      "text/plain": [
       "3.3333333333333335"
      ]
     },
     "execution_count": 4,
     "metadata": {},
     "output_type": "execute_result"
    }
   ],
   "source": [
    "# Ex. 9. Convert 200 minutes to hours by dividing by 60\n",
    "nMin = 200\n",
    "nHour = nMin / 60\n",
    "nHour"
   ]
  },
  {
   "cell_type": "code",
   "execution_count": null,
   "id": "3181a670-2323-451f-a884-e88a4f568fdc",
   "metadata": {},
   "outputs": [],
   "source": []
  }
 ],
 "metadata": {
  "kernelspec": {
   "display_name": "Python 3 (ipykernel)",
   "language": "python",
   "name": "python3"
  },
  "language_info": {
   "codemirror_mode": {
    "name": "ipython",
    "version": 3
   },
   "file_extension": ".py",
   "mimetype": "text/x-python",
   "name": "python",
   "nbconvert_exporter": "python",
   "pygments_lexer": "ipython3",
   "version": "3.11.8"
  }
 },
 "nbformat": 4,
 "nbformat_minor": 5
}
